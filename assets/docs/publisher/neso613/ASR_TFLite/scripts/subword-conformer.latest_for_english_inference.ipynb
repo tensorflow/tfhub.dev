{
 "cells": [
  {
   "cell_type": "code",
   "execution_count": 1,
   "id": "e203a4fc",
   "metadata": {},
   "outputs": [],
   "source": [
    "import tensorflow as tf\n",
    "import librosa\n",
    "import os\n",
    "import numpy as np"
   ]
  },
  {
   "cell_type": "code",
   "execution_count": 2,
   "id": "5ee75ea7",
   "metadata": {},
   "outputs": [],
   "source": [
    "TFLite_model = '../pre_trained_models/English/subword-conformer.latest_for_english.tflite'"
   ]
  },
  {
   "cell_type": "code",
   "execution_count": 3,
   "id": "deddb0bf",
   "metadata": {},
   "outputs": [],
   "source": [
    "audio = '../wavs/1089-134691-0000.flac'"
   ]
  },
  {
   "cell_type": "code",
   "execution_count": 4,
   "id": "b09d6d55",
   "metadata": {},
   "outputs": [],
   "source": [
    "signal, _ = librosa.load(os.path.expanduser(audio), sr=16000, mono=True)"
   ]
  },
  {
   "cell_type": "code",
   "execution_count": 5,
   "id": "bb16883c",
   "metadata": {},
   "outputs": [],
   "source": [
    "interpreter = tf.lite.Interpreter(model_path=TFLite_model)\n",
    "interpreter.allocate_tensors()\n",
    "\n",
    "input_details = interpreter.get_input_details()\n",
    "output_details = interpreter.get_output_details()"
   ]
  },
  {
   "cell_type": "code",
   "execution_count": 6,
   "id": "0669d19e",
   "metadata": {},
   "outputs": [
    {
     "name": "stdout",
     "output_type": "stream",
     "text": [
      "\u0000\u0000\u0000\u0000he \u0000could \u0000\u0000wa\u0000\u0000it \u0000no \u0000longer\u0000\u0000\n"
     ]
    }
   ],
   "source": [
    "interpreter.resize_tensor_input(input_details[0][\"index\"], signal.shape)\n",
    "interpreter.allocate_tensors()\n",
    "interpreter.set_tensor(input_details[0][\"index\"], signal)\n",
    "interpreter.set_tensor(\n",
    "    input_details[1][\"index\"],\n",
    "    np.array(0).astype('int32')\n",
    ")\n",
    "interpreter.set_tensor(\n",
    "    input_details[2][\"index\"],\n",
    "    np.zeros([1,2,1,320]).astype('float32')\n",
    ")\n",
    "interpreter.invoke()\n",
    "hyp = interpreter.get_tensor(output_details[0][\"index\"])\n",
    "\n",
    "print(\"\".join([chr(u) for u in hyp]))"
   ]
  },
  {
   "cell_type": "code",
   "execution_count": null,
   "id": "3604d2c4",
   "metadata": {},
   "outputs": [],
   "source": []
  }
 ],
 "metadata": {
  "kernelspec": {
   "display_name": "Python 3",
   "language": "python",
   "name": "python3"
  },
  "language_info": {
   "codemirror_mode": {
    "name": "ipython",
    "version": 3
   },
   "file_extension": ".py",
   "mimetype": "text/x-python",
   "name": "python",
   "nbconvert_exporter": "python",
   "pygments_lexer": "ipython3",
   "version": "3.8.10"
  }
 },
 "nbformat": 4,
 "nbformat_minor": 5
}
